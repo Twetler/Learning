{
 "cells": [
  {
   "cell_type": "markdown",
   "metadata": {},
   "source": [
    "# Introduction to the Problem\n",
    "\n",
    "####    Traffic accidents are one of the biggest death causes in Brazil, leading the country the the position of fourth country with the most car fatalities, followed by Nigeria, China and India. There are many factors that can influence the likeability of an accident to happen, distractions, bad road conditions and many others. \n",
    "####    In this DataBase we have information describing 194.673 accidents in Seattle using the city traffic data and classified into various parameters, the data will be described further ahead. Thus, the goal of this project is to create a model using Machine Learning concepts that can make accurate predictions on the severity of the accidents based on the conditions presented.\n",
    "#### The importance of this work is the bring out attentions to the factors that contribute to a increased accident severity, as alcohol consumption during the ride, speeding, road and weather conditions to understand how these factors impact of the problem"
   ]
  },
  {
   "cell_type": "code",
   "execution_count": null,
   "metadata": {},
   "outputs": [],
   "source": []
  }
 ],
 "metadata": {
  "kernelspec": {
   "display_name": "Python 3",
   "language": "python",
   "name": "python3"
  },
  "language_info": {
   "codemirror_mode": {
    "name": "ipython",
    "version": 3
   },
   "file_extension": ".py",
   "mimetype": "text/x-python",
   "name": "python",
   "nbconvert_exporter": "python",
   "pygments_lexer": "ipython3",
   "version": "3.8.4"
  }
 },
 "nbformat": 4,
 "nbformat_minor": 4
}
